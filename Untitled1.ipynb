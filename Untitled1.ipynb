{
 "cells": [
  {
   "cell_type": "code",
   "execution_count": 1,
   "id": "d9ed04c8",
   "metadata": {},
   "outputs": [],
   "source": [
    "import numpy as np"
   ]
  },
  {
   "cell_type": "code",
   "execution_count": 2,
   "id": "dd5e6275",
   "metadata": {},
   "outputs": [],
   "source": [
    "exps=np.array([8.4, 9.5, 9.2, 10.0])\n"
   ]
  },
  {
   "cell_type": "code",
   "execution_count": 3,
   "id": "f0960517",
   "metadata": {},
   "outputs": [
    {
     "data": {
      "text/plain": [
       "9.274999999999999"
      ]
     },
     "execution_count": 3,
     "metadata": {},
     "output_type": "execute_result"
    }
   ],
   "source": [
    "np.mean(exps)"
   ]
  },
  {
   "cell_type": "code",
   "execution_count": 4,
   "id": "26d69199",
   "metadata": {},
   "outputs": [],
   "source": [
    "import scipy.stats"
   ]
  },
  {
   "cell_type": "code",
   "execution_count": 5,
   "id": "db90d054",
   "metadata": {},
   "outputs": [],
   "source": [
    "std=scipy.stats.sem(exps)"
   ]
  },
  {
   "cell_type": "code",
   "execution_count": 13,
   "id": "75e66cc8",
   "metadata": {},
   "outputs": [
    {
     "data": {
      "text/plain": [
       "0.33509948771471826"
      ]
     },
     "execution_count": 13,
     "metadata": {},
     "output_type": "execute_result"
    }
   ],
   "source": [
    "std"
   ]
  },
  {
   "cell_type": "code",
   "execution_count": 14,
   "id": "4903d0a9",
   "metadata": {},
   "outputs": [
    {
     "data": {
      "text/plain": [
       "0.7884890945927321"
      ]
     },
     "execution_count": 14,
     "metadata": {},
     "output_type": "execute_result"
    }
   ],
   "source": [
    "std*2.353"
   ]
  },
  {
   "cell_type": "code",
   "execution_count": 7,
   "id": "c9611079",
   "metadata": {},
   "outputs": [],
   "source": [
    "confidence=0.9\n",
    "n=len(exps)"
   ]
  },
  {
   "cell_type": "code",
   "execution_count": 8,
   "id": "5d5e15dd",
   "metadata": {},
   "outputs": [],
   "source": [
    "h = std * scipy.stats.t.ppf((1 + confidence) / 2., n-1)"
   ]
  },
  {
   "cell_type": "code",
   "execution_count": 9,
   "id": "2c6a2ad0",
   "metadata": {},
   "outputs": [
    {
     "data": {
      "text/plain": [
       "0.7886108814086418"
      ]
     },
     "execution_count": 9,
     "metadata": {},
     "output_type": "execute_result"
    }
   ],
   "source": [
    "h"
   ]
  },
  {
   "cell_type": "code",
   "execution_count": 12,
   "id": "76805d84",
   "metadata": {},
   "outputs": [
    {
     "data": {
      "text/plain": [
       "1.5772217628172835"
      ]
     },
     "execution_count": 12,
     "metadata": {},
     "output_type": "execute_result"
    }
   ],
   "source": [
    "h*2"
   ]
  },
  {
   "cell_type": "code",
   "execution_count": 10,
   "id": "802df2a3",
   "metadata": {},
   "outputs": [
    {
     "data": {
      "text/plain": [
       "8.486389118591356"
      ]
     },
     "execution_count": 10,
     "metadata": {},
     "output_type": "execute_result"
    }
   ],
   "source": [
    "np.mean(exps)-h"
   ]
  },
  {
   "cell_type": "code",
   "execution_count": 11,
   "id": "484541c0",
   "metadata": {},
   "outputs": [
    {
     "data": {
      "text/plain": [
       "10.063610881408641"
      ]
     },
     "execution_count": 11,
     "metadata": {},
     "output_type": "execute_result"
    }
   ],
   "source": [
    "np.mean(exps)+h"
   ]
  }
 ],
 "metadata": {
  "kernelspec": {
   "display_name": "Python 3 (ipykernel)",
   "language": "python",
   "name": "python3"
  },
  "language_info": {
   "codemirror_mode": {
    "name": "ipython",
    "version": 3
   },
   "file_extension": ".py",
   "mimetype": "text/x-python",
   "name": "python",
   "nbconvert_exporter": "python",
   "pygments_lexer": "ipython3",
   "version": "3.9.16"
  }
 },
 "nbformat": 4,
 "nbformat_minor": 5
}
